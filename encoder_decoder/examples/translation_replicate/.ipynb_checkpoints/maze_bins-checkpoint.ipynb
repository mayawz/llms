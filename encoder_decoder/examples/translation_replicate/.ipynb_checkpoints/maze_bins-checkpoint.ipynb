{
 "cells": [
  {
   "cell_type": "code",
   "execution_count": null,
   "id": "9c617b81-b73b-4858-bf1c-8e6f907e6870",
   "metadata": {},
   "outputs": [],
   "source": [
    "# function binLabel=MazeBinLabel(xx,yy)\n",
    "# % segrate maze by path instead of grid\n",
    "# % x axis: -21, -7, 7, 21\n",
    "# % y axis: -21, -7, 7, 21\n",
    "# %% eg\n",
    "# % xx=-21;\n",
    "# % yy=-0.6;\n",
    "# %%\n",
    "# binEdges=[-28,-23,-19,-14,-9,-5,0,5,9,14,19,23,28,35];\n",
    "\n",
    "# tmp=find(yy<=binEdges);\n",
    "# yid=tmp(1);\n",
    "# clear tmp\n",
    "\n",
    "# tmp=find(xx<=binEdges);\n",
    "# xid=tmp(1);\n",
    "# clear tmp\n",
    "\n",
    "# binLabel=xid*1000+yid;\n",
    "\n",
    "\n",
    "# % Tried these, not as great\n",
    "# % MazeShowGrid(3.5,40)\n",
    "# % MazeShowGrid(7,35)\n",
    "# % binEdges=-33:3.5:33.5; % 20 edges 22 bins\n",
    "# % hand define useful bins\n",
    "\n",
    "# % allPossibleBinLabels=[1003 1009 ... this is x=1 y=3 y=9\n",
    "# %     2003 2009 ...\n",
    "# %     3001 3002 3003 3004 3005 3006 3007 3008 3009 3012 ...\n",
    "# %     4003 4006 4009 4012 ...\n",
    "# %     5003 5006 5009 5012 ...\n",
    "# %     6001 6002 6003 6004 6005 6006 6007 6008 6009 6010 6011 6012 ...\n",
    "# %     7003 7006 7009 7012 ...\n",
    "# %     8003 8006 8009 8012 ...\n",
    "# %     9003 9004 9005 9006 9007 9008 9009 9010 9011 9012 9013 9014 ...\n",
    "# %     10003 10006 10009 ...\n",
    "# %     11003 11006 11009 ...\n",
    "# %     12001 12002 12003 12004 12005 12006 12007 12008 12009 12010 12011 12012 ...\n",
    "# %     13006 ...\n",
    "# %     14006];\n",
    "# % length(allPossibleBinLabels) % =74;\n",
    "# end"
   ]
  }
 ],
 "metadata": {
  "kernelspec": {
   "display_name": "Python 3 (ipykernel)",
   "language": "python",
   "name": "python3"
  },
  "language_info": {
   "codemirror_mode": {
    "name": "ipython",
    "version": 3
   },
   "file_extension": ".py",
   "mimetype": "text/x-python",
   "name": "python",
   "nbconvert_exporter": "python",
   "pygments_lexer": "ipython3",
   "version": "3.10.13"
  }
 },
 "nbformat": 4,
 "nbformat_minor": 5
}
