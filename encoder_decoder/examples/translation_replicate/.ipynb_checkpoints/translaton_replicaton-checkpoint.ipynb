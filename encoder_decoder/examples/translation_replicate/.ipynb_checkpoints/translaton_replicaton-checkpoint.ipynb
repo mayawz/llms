{
 "cells": [
  {
   "cell_type": "markdown",
   "id": "5fbc0951-f044-4937-b60a-587ed117995f",
   "metadata": {},
   "source": [
    "# replicate Attention Is All You Need for translaton"
   ]
  },
  {
   "cell_type": "code",
   "execution_count": null,
   "id": "710acaa2-1111-404c-a211-82925e141c32",
   "metadata": {},
   "outputs": [],
   "source": [
    "# set up \n",
    "# !pip install -q torchdata==0.3.0 torchtext==0.12 spacy==3.2 altair \n",
    "# !pip GPUtil\n",
    "# !python -m spacy download de_core_news_sm\n",
    "# !python -m spacy download en_core_web_sm"
   ]
  },
  {
   "cell_type": "code",
   "execution_count": null,
   "id": "00fd7330-a595-4d39-97ef-bc7aebb0230a",
   "metadata": {},
   "outputs": [],
   "source": [
    "!pip install spacy==3.2"
   ]
  },
  {
   "cell_type": "code",
   "execution_count": null,
   "id": "47434fb2-9dbf-4b3a-8d22-8140243da482",
   "metadata": {},
   "outputs": [],
   "source": [
    "# !python -m spacy download de_core_news_sm\n",
    "# !python -m spacy download en_core_web_sm\n",
    "# after use uninstall \n",
    "# pip uninstall de_core_news_sm\n",
    "# pip uninstall en-core-web-sm"
   ]
  },
  {
   "cell_type": "code",
   "execution_count": null,
   "id": "10eebeb8-57af-4679-b67c-823b165de3ad",
   "metadata": {},
   "outputs": [],
   "source": [
    "import os\n",
    "from os.path import exists\n",
    "import torch\n",
    "import torch.nn as nn\n",
    "from torch.nn.functional import log_softmax, pad\n",
    "import math\n",
    "import copy\n",
    "import time\n",
    "from torch.optim.lr_scheduler import LambdaLR\n",
    "import pandas as pd\n",
    "import altair as alt\n",
    "from torchtext.data.functional import to_map_style_dataset\n",
    "from torch.utils.data import DataLoader\n",
    "from torchtext.vocab import build_vocab_from_iterator\n",
    "import torchtext.datasets as datasets\n",
    "import spacy\n",
    "# import GPUtil\n",
    "import warnings\n",
    "from torch.utils.data.distributed import DistributedSampler\n",
    "import torch.distributed as dist\n",
    "import torch.multiprocessing as mp\n",
    "from torch.nn.parallel import DistributedDataParallel as DDP"
   ]
  },
  {
   "cell_type": "code",
   "execution_count": null,
   "id": "9e9aa3b3-123a-4d65-aa7f-44a64da492fa",
   "metadata": {},
   "outputs": [],
   "source": [
    "# load data for English - Deutsch translation\n",
    "def load_tokenizers():\n",
    "\n",
    "    try:\n",
    "        spacy_de = spacy.load(\"de_core_news_sm\")\n",
    "    except IOError:\n",
    "        os.system(\"python -m spacy download de_core_news_sm\")\n",
    "        spacy_de = spacy.load(\"de_core_news_sm\")\n",
    "\n",
    "    try:\n",
    "        spacy_en = spacy.load(\"en_core_web_sm\")\n",
    "    except IOError:\n",
    "        os.system(\"python -m spacy download en_core_web_sm\")\n",
    "        spacy_en = spacy.load(\"en_core_web_sm\")\n",
    "\n",
    "    return spacy_de, spacy_en"
   ]
  },
  {
   "cell_type": "code",
   "execution_count": null,
   "id": "a92463f6-e24d-4451-9ddd-782f09a764e9",
   "metadata": {},
   "outputs": [],
   "source": [
    "# tokenize\n",
    "def tokenize(text, tokenizer):\n",
    "    return [tok.text for tok in tokenizer.tokenizer(text)]\n",
    "\n",
    "\n",
    "def yield_tokens(data_iter, tokenizer, index):\n",
    "    for from_to_tuple in data_iter:\n",
    "        yield tokenizer(from_to_tuple[index])"
   ]
  },
  {
   "cell_type": "code",
   "execution_count": null,
   "id": "2b5c5030-0ec4-4c8d-bbd3-b7b557750fe7",
   "metadata": {},
   "outputs": [],
   "source": []
  },
  {
   "cell_type": "code",
   "execution_count": null,
   "id": "c99d5b3e-8986-433c-ad66-cd918f776504",
   "metadata": {},
   "outputs": [],
   "source": []
  },
  {
   "cell_type": "code",
   "execution_count": null,
   "id": "787b572c-85d5-49a9-a5dd-30db8e844c6d",
   "metadata": {},
   "outputs": [],
   "source": []
  },
  {
   "cell_type": "code",
   "execution_count": null,
   "id": "63a068e4-eab6-4ad2-98ef-b4b8b18fd667",
   "metadata": {},
   "outputs": [],
   "source": []
  },
  {
   "cell_type": "code",
   "execution_count": null,
   "id": "bec08dc1-8ebe-4ae9-8a9e-a32e569fccb2",
   "metadata": {},
   "outputs": [],
   "source": []
  },
  {
   "cell_type": "code",
   "execution_count": null,
   "id": "60c84ad1-76ef-443c-a90f-ecb507002a63",
   "metadata": {},
   "outputs": [],
   "source": []
  },
  {
   "cell_type": "code",
   "execution_count": null,
   "id": "1ab266aa-b5c6-43f8-8222-b2b1756afd81",
   "metadata": {},
   "outputs": [],
   "source": []
  },
  {
   "cell_type": "code",
   "execution_count": null,
   "id": "964646e8-e997-4854-88b9-b8b93c2c74b3",
   "metadata": {},
   "outputs": [],
   "source": []
  },
  {
   "cell_type": "code",
   "execution_count": null,
   "id": "46a9963d-974d-4b00-aa80-bc7548a6c01b",
   "metadata": {},
   "outputs": [],
   "source": []
  },
  {
   "cell_type": "code",
   "execution_count": null,
   "id": "4a7da5ed-8584-4a72-970a-5d857428cca2",
   "metadata": {},
   "outputs": [],
   "source": []
  },
  {
   "cell_type": "code",
   "execution_count": null,
   "id": "567624f4-85b4-4fb8-bc67-e38a628a525a",
   "metadata": {},
   "outputs": [],
   "source": []
  },
  {
   "cell_type": "code",
   "execution_count": null,
   "id": "accb9311-d2a3-4657-ae59-b1b6037afab3",
   "metadata": {},
   "outputs": [],
   "source": []
  },
  {
   "cell_type": "code",
   "execution_count": null,
   "id": "3704510f-bb2f-4517-8a53-c8e19a395e47",
   "metadata": {},
   "outputs": [],
   "source": []
  },
  {
   "cell_type": "code",
   "execution_count": null,
   "id": "b4eae28e-b97a-4ace-b3a6-7fb96b40f1fa",
   "metadata": {},
   "outputs": [],
   "source": []
  },
  {
   "cell_type": "code",
   "execution_count": null,
   "id": "f8e25e86-514f-4cb4-bc1e-57d692564c4c",
   "metadata": {},
   "outputs": [],
   "source": []
  },
  {
   "cell_type": "code",
   "execution_count": null,
   "id": "aa5e332b-bc16-4c1c-ae7a-abf038ca66bb",
   "metadata": {},
   "outputs": [],
   "source": []
  },
  {
   "cell_type": "code",
   "execution_count": null,
   "id": "1f399b97-51de-4ea1-a08c-5b9cc16e3f39",
   "metadata": {},
   "outputs": [],
   "source": []
  }
 ],
 "metadata": {
  "kernelspec": {
   "display_name": "Python 3 (ipykernel)",
   "language": "python",
   "name": "python3"
  },
  "language_info": {
   "codemirror_mode": {
    "name": "ipython",
    "version": 3
   },
   "file_extension": ".py",
   "mimetype": "text/x-python",
   "name": "python",
   "nbconvert_exporter": "python",
   "pygments_lexer": "ipython3",
   "version": "3.10.13"
  }
 },
 "nbformat": 4,
 "nbformat_minor": 5
}
